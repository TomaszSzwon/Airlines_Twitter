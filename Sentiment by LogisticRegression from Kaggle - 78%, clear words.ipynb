{
 "cells": [
  {
   "cell_type": "code",
   "execution_count": 2,
   "id": "2d1231f0-da31-45a7-a561-7e6c1bf64ecc",
   "metadata": {},
   "outputs": [
    {
     "name": "stderr",
     "output_type": "stream",
     "text": [
      "[nltk_data] Downloading package stopwords to\n",
      "[nltk_data]     C:\\Users\\tomas\\AppData\\Roaming\\nltk_data...\n",
      "[nltk_data]   Package stopwords is already up-to-date!\n"
     ]
    },
    {
     "name": "stdout",
     "output_type": "stream",
     "text": [
      "\n",
      "📊 Raport klasyfikacji:\n",
      "               precision    recall  f1-score   support\n",
      "\n",
      "           0       0.80      0.94      0.87      1889\n",
      "           1       0.66      0.42      0.52       580\n",
      "           2       0.81      0.59      0.68       459\n",
      "\n",
      "    accuracy                           0.78      2928\n",
      "   macro avg       0.76      0.65      0.69      2928\n",
      "weighted avg       0.77      0.78      0.77      2928\n",
      "\n",
      "\n",
      "🎯 Dokładność modelu: 0.7844945355191257\n",
      "\n",
      "🔹 Najbardziej wpływowe słowa dla klasy 'negative':\n",
      "['customers', 'hrs', 'fix', 'luggage', 'hour', 'hold', 'cancelled', 'delayed', 'worst', 'hours']\n",
      "\n",
      "🔹 Najbardziej wpływowe słowa dla klasy 'neutral':\n",
      "['winners', 'question', 'fleek', 'need', 'march', 'policy', 'chance', 'number', 'photo', 'ceo']\n",
      "\n",
      "🔹 Najbardziej wpływowe słowa dla klasy 'positive':\n",
      "['thx', 'excellent', 'appreciate', 'love', 'best', 'amazing', 'awesome', 'great', 'thanks', 'thank']\n"
     ]
    }
   ],
   "source": [
    "import pandas as pd\n",
    "import numpy as np\n",
    "import re\n",
    "import nltk\n",
    "from nltk.corpus import stopwords\n",
    "from sklearn.feature_extraction.text import TfidfVectorizer\n",
    "from sklearn.model_selection import train_test_split\n",
    "from sklearn.linear_model import LogisticRegression\n",
    "from sklearn.metrics import classification_report, accuracy_score\n",
    "\n",
    "# Wczytanie danych\n",
    "df = pd.read_csv(r\"C:\\Users\\tomas\\Desktop\\Praca dyplomowa\\Tweets_Kaggle_Clean.csv\")\n",
    "\n",
    "# Pobranie listy stopwords\n",
    "nltk.download('stopwords')\n",
    "stop_words = set(stopwords.words('english'))\n",
    "\n",
    "# Lista nazw linii lotniczych i nieistotnych zwrotów\n",
    "unnecessary_words = [\"united\", \"american\", \"delta\", \"southwest\", \"jetblue\", \"virginamerica\", \"usairways\",\n",
    "                      \"flight\", \"flights\", \"airline\", \"plane\", \"hi\", \"hello\", \"australia\", \"hawaii\", \"mexico\"]\n",
    "\n",
    "# Funkcja do czyszczenia tekstu\n",
    "def clean_text(text):\n",
    "    text = text.lower()  # Małe litery\n",
    "    text = re.sub(r\"http\\S+|www\\S+\", \"\", text)  # Usunięcie linków\n",
    "    text = re.sub(r\"@\\S+|#\\S+\", \"\", text)  # Usunięcie mentionów i hashtagów\n",
    "    words = text.split()\n",
    "    words = [word for word in words if word not in stop_words and not any(air in word for air in unnecessary_words)]\n",
    "    return \" \".join(words)\n",
    "\n",
    "# Zastosowanie funkcji do danych\n",
    "df[\"clean_text\"] = df[\"text\"].apply(clean_text)\n",
    "\n",
    "# TF-IDF\n",
    "vectorizer = TfidfVectorizer(stop_words=\"english\", max_features=5000)\n",
    "X = vectorizer.fit_transform(df[\"clean_text\"])\n",
    "\n",
    "y = df[\"airline_sentiment\"].map({\"negative\": 0, \"neutral\": 1, \"positive\": 2})\n",
    "\n",
    "# Podział danych\n",
    "X_train, X_test, y_train, y_test = train_test_split(X, y, test_size=0.2, random_state=42)\n",
    "\n",
    "# Model regresji logistycznej\n",
    "model = LogisticRegression(max_iter=500)\n",
    "model.fit(X_train, y_train)\n",
    "\n",
    "y_pred = model.predict(X_test)\n",
    "\n",
    "# Raport\n",
    "print(\"\\n📊 Raport klasyfikacji:\\n\", classification_report(y_test, y_pred))\n",
    "print(\"\\n🎯 Dokładność modelu:\", accuracy_score(y_test, y_pred))\n",
    "\n",
    "# Analiza wpływowych słów\n",
    "feature_names = vectorizer.get_feature_names_out()\n",
    "class_labels = [\"negative\", \"neutral\", \"positive\"]\n",
    "\n",
    "for i, label in enumerate(class_labels):\n",
    "    top_words = np.argsort(model.coef_[i])[-10:]\n",
    "    print(f\"\\n🔹 Najbardziej wpływowe słowa dla klasy '{label}':\")\n",
    "    print([feature_names[j] for j in top_words])"
   ]
  },
  {
   "cell_type": "code",
   "execution_count": null,
   "id": "ff9c7326-4026-4d80-9c60-3548078f9ef9",
   "metadata": {},
   "outputs": [],
   "source": []
  }
 ],
 "metadata": {
  "kernelspec": {
   "display_name": "Python 3 (ipykernel)",
   "language": "python",
   "name": "python3"
  },
  "language_info": {
   "codemirror_mode": {
    "name": "ipython",
    "version": 3
   },
   "file_extension": ".py",
   "mimetype": "text/x-python",
   "name": "python",
   "nbconvert_exporter": "python",
   "pygments_lexer": "ipython3",
   "version": "3.13.2"
  }
 },
 "nbformat": 4,
 "nbformat_minor": 5
}
