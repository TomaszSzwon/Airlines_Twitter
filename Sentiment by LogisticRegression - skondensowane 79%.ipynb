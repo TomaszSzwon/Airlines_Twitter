{
 "cells": [
  {
   "cell_type": "code",
   "execution_count": 4,
   "id": "e7240d6d-3ec2-4d08-989b-8172d5dcceb5",
   "metadata": {},
   "outputs": [
    {
     "name": "stderr",
     "output_type": "stream",
     "text": [
      "[nltk_data] Downloading package stopwords to\n",
      "[nltk_data]     C:\\Users\\tomas\\AppData\\Roaming\\nltk_data...\n",
      "[nltk_data]   Package stopwords is already up-to-date!\n"
     ]
    },
    {
     "name": "stdout",
     "output_type": "stream",
     "text": [
      "\n",
      "📊 Raport klasyfikacji:\n",
      "               precision    recall  f1-score   support\n",
      "\n",
      "           0       0.81      0.94      0.87      1889\n",
      "           1       0.66      0.46      0.54       580\n",
      "           2       0.80      0.61      0.69       459\n",
      "\n",
      "    accuracy                           0.79      2928\n",
      "   macro avg       0.76      0.67      0.70      2928\n",
      "weighted avg       0.78      0.79      0.78      2928\n",
      "\n",
      "\n",
      "🎯 Dokładność modelu: 0.7909836065573771\n",
      "\n",
      "🔹 Najbardziej wpływowe słowa dla klasy 'negative':\n",
      "['hrs', 'fix', 'delay', 'luggage', 'cancelled', 'hour', 'hold', 'delayed', 'worst', 'hours']\n",
      "\n",
      "🔹 Najbardziej wpływowe słowa dla klasy 'neutral':\n",
      "['march', 'need', 'question', 'number', 'policy', 'united', 'americanair', 'southwestair', 'hi', 'jetblue']\n",
      "\n",
      "🔹 Najbardziej wpływowe słowa dla klasy 'positive':\n",
      "['thx', 'excellent', 'appreciate', 'love', 'best', 'amazing', 'awesome', 'great', 'thanks', 'thank']\n"
     ]
    }
   ],
   "source": [
    "import pandas as pd\n",
    "import nltk\n",
    "from nltk.corpus import stopwords\n",
    "from sklearn.feature_extraction.text import TfidfVectorizer\n",
    "from sklearn.model_selection import train_test_split\n",
    "from sklearn.linear_model import LogisticRegression\n",
    "from sklearn.metrics import classification_report, accuracy_score\n",
    "import numpy as np\n",
    "\n",
    "# Wczytanie danych\n",
    "df = pd.read_csv(r\"C:\\Users\\tomas\\Desktop\\Praca dyplomowa\\Tweets_Kaggle_Clean.csv\")\n",
    "\n",
    "# Pobranie listy stopwords\n",
    "nltk.download('stopwords')\n",
    "stop_words = set(stopwords.words('english'))\n",
    "\n",
    "# Lista zbędnych słów (linie lotnicze, słowa kluczowe)\n",
    "extra_stopwords = {\"flight\", \"flights\", \"http\", \"https\", \"airline\", \"plane\", \n",
    "                   \"americanair\", \"jetblue\", \"united\", \"southwestair\", \"usairways\", \"virginamerica\"}\n",
    "\n",
    "# Funkcja do czyszczenia tekstu\n",
    "def clean_text(text):\n",
    "    words = text.lower().split()\n",
    "    words = [word for word in words if word not in stop_words and word not in extra_stopwords]\n",
    "    return \" \".join(words)\n",
    "\n",
    "# Czyszczenie danych\n",
    "df[\"clean_text\"] = df[\"text\"].apply(clean_text)\n",
    "\n",
    "# Tworzymy wektor cech TF-IDF\n",
    "vectorizer = TfidfVectorizer(stop_words=\"english\", max_features=5000)\n",
    "X = vectorizer.fit_transform(df[\"clean_text\"])\n",
    "\n",
    "# Konwersja sentymentu na liczby (0 = negatywny, 1 = neutralny, 2 = pozytywny)\n",
    "y = df[\"airline_sentiment\"].map({\"negative\": 0, \"neutral\": 1, \"positive\": 2})\n",
    "\n",
    "# Podział na zestaw treningowy i testowy\n",
    "X_train, X_test, y_train, y_test = train_test_split(X, y, test_size=0.2, random_state=42)\n",
    "\n",
    "# Trenowanie modelu regresji logistycznej\n",
    "model = LogisticRegression(max_iter=500)\n",
    "model.fit(X_train, y_train)\n",
    "\n",
    "# Predykcja na zbiorze testowym\n",
    "y_pred = model.predict(X_test)\n",
    "\n",
    "# Ocena modelu\n",
    "print(\"\\n📊 Raport klasyfikacji:\\n\", classification_report(y_test, y_pred))\n",
    "print(\"\\n🎯 Dokładność modelu:\", accuracy_score(y_test, y_pred))\n",
    "\n",
    "# Analiza wpływowych słów\n",
    "feature_names = vectorizer.get_feature_names_out()\n",
    "class_labels = [\"negative\", \"neutral\", \"positive\"]\n",
    "\n",
    "for i, label in enumerate(class_labels):\n",
    "    top_words = np.argsort(model.coef_[i])[-10:]  # 10 najważniejszych słów\n",
    "    print(f\"\\n🔹 Najbardziej wpływowe słowa dla klasy '{label}':\")\n",
    "    print([feature_names[j] for j in top_words])\n"
   ]
  }
 ],
 "metadata": {
  "kernelspec": {
   "display_name": "Python 3 (ipykernel)",
   "language": "python",
   "name": "python3"
  },
  "language_info": {
   "codemirror_mode": {
    "name": "ipython",
    "version": 3
   },
   "file_extension": ".py",
   "mimetype": "text/x-python",
   "name": "python",
   "nbconvert_exporter": "python",
   "pygments_lexer": "ipython3",
   "version": "3.13.2"
  }
 },
 "nbformat": 4,
 "nbformat_minor": 5
}
